{
 "cells": [
  {
   "cell_type": "code",
   "execution_count": 111,
   "metadata": {},
   "outputs": [],
   "source": [
    "import pandas as pd\n",
    "import numpy as np\n",
    "\n",
    "file = \"/Users/eefje/python_projects/stijn/data/test eef.xlsx\"\n",
    "excel = pd.read_excel(file, sheet_name=\"Blad2\", dtype=str)\n",
    "excel = excel.rename(columns={' Wrd/CO-val':'Bedrag'})\n",
    "# excel.columns = excel.columns.str.replace(\"/\", \" \")\n",
    "# excel.columns = excel.columns.str.replace(\"-\", \" \")\n",
    "excel.dropna(how='all', axis=1, inplace=True)\n",
    "\n",
    "# Reformat columns\n",
    "excel['Boekdatum'] = pd.to_datetime(excel['Doc.datum'], format=\"%d.%m.%Y\")\n",
    "excel['Boekmaand'] = excel['Boekdatum'].dt.to_period('M')\n",
    "excel['Bedrag'] = excel[\"Bedrag\"].astype(float)\n",
    "\n",
    "# Filter out ATB\n",
    "excel = excel[excel['DTyp'] == 'BEST']\n",
    "\n",
    "# Flag voor VTW\n",
    "excel['VTW_flag'] = np.where(excel['Pos.'].astype(int)>10, 1, 0)\n",
    "\n",
    "obligo = excel.groupby(['WBS-element', 'Boekmaand', 'Crediteur', 'Vendor name', 'VTW_flag']).sum().reset_index()\n",
    "obligo['Obligo']=1"
   ]
  },
  {
   "cell_type": "code",
   "execution_count": 153,
   "metadata": {},
   "outputs": [],
   "source": [
    "vtw = obligo[obligo['VTW_flag']==1]\n",
    "vtw = vtw.groupby('Boekmaand').sum().reset_index()[['Boekmaand', 'Bedrag']]\n",
    "vtw.sort_values(by='Boekmaand', ascending=False, inplace=True)\n",
    "vtw.reset_index(inplace=True, drop=True)"
   ]
  },
  {
   "cell_type": "code",
   "execution_count": 154,
   "metadata": {},
   "outputs": [],
   "source": [
    "contingency_now = budget[budget['Id'].isin(['JH-55700008-5710', 'JH-55700008-5720'])]['Budget TG3'].astype(int).sum()"
   ]
  },
  {
   "cell_type": "code",
   "execution_count": 156,
   "metadata": {},
   "outputs": [],
   "source": [
    "vtw.loc[-1] = ['2022-02', contingency_now]  # adding a row\n",
    "vtw.index = vtw.index + 1  # shifting index\n",
    "vtw.sort_index(inplace=True) "
   ]
  },
  {
   "cell_type": "code",
   "execution_count": 157,
   "metadata": {},
   "outputs": [],
   "source": [
    "vtw['Contingency'] = vtw['Bedrag'].cumsum()"
   ]
  },
  {
   "cell_type": "code",
   "execution_count": 158,
   "metadata": {},
   "outputs": [
    {
     "data": {
      "text/html": [
       "<div>\n",
       "<style scoped>\n",
       "    .dataframe tbody tr th:only-of-type {\n",
       "        vertical-align: middle;\n",
       "    }\n",
       "\n",
       "    .dataframe tbody tr th {\n",
       "        vertical-align: top;\n",
       "    }\n",
       "\n",
       "    .dataframe thead th {\n",
       "        text-align: right;\n",
       "    }\n",
       "</style>\n",
       "<table border=\"1\" class=\"dataframe\">\n",
       "  <thead>\n",
       "    <tr style=\"text-align: right;\">\n",
       "      <th></th>\n",
       "      <th>Boekmaand</th>\n",
       "      <th>Bedrag</th>\n",
       "      <th>Contingency</th>\n",
       "    </tr>\n",
       "  </thead>\n",
       "  <tbody>\n",
       "    <tr>\n",
       "      <th>0</th>\n",
       "      <td>2022-02</td>\n",
       "      <td>939000.00</td>\n",
       "      <td>939000.00</td>\n",
       "    </tr>\n",
       "    <tr>\n",
       "      <th>1</th>\n",
       "      <td>2020-07</td>\n",
       "      <td>876.03</td>\n",
       "      <td>939876.03</td>\n",
       "    </tr>\n",
       "    <tr>\n",
       "      <th>2</th>\n",
       "      <td>2020-05</td>\n",
       "      <td>0.00</td>\n",
       "      <td>939876.03</td>\n",
       "    </tr>\n",
       "    <tr>\n",
       "      <th>3</th>\n",
       "      <td>2020-04</td>\n",
       "      <td>337911.78</td>\n",
       "      <td>1277787.81</td>\n",
       "    </tr>\n",
       "    <tr>\n",
       "      <th>4</th>\n",
       "      <td>2020-02</td>\n",
       "      <td>12940.50</td>\n",
       "      <td>1290728.31</td>\n",
       "    </tr>\n",
       "    <tr>\n",
       "      <th>5</th>\n",
       "      <td>2020-01</td>\n",
       "      <td>0.00</td>\n",
       "      <td>1290728.31</td>\n",
       "    </tr>\n",
       "  </tbody>\n",
       "</table>\n",
       "</div>"
      ],
      "text/plain": [
       "  Boekmaand     Bedrag  Contingency\n",
       "0   2022-02  939000.00    939000.00\n",
       "1   2020-07     876.03    939876.03\n",
       "2   2020-05       0.00    939876.03\n",
       "3   2020-04  337911.78   1277787.81\n",
       "4   2020-02   12940.50   1290728.31\n",
       "5   2020-01       0.00   1290728.31"
      ]
     },
     "execution_count": 158,
     "metadata": {},
     "output_type": "execute_result"
    }
   ],
   "source": [
    "vtw"
   ]
  },
  {
   "cell_type": "code",
   "execution_count": 118,
   "metadata": {},
   "outputs": [],
   "source": [
    "obligo_group = obligo.groupby('Boekmaand').sum().reset_index()"
   ]
  },
  {
   "cell_type": "code",
   "execution_count": 119,
   "metadata": {},
   "outputs": [
    {
     "data": {
      "text/html": [
       "<div>\n",
       "<style scoped>\n",
       "    .dataframe tbody tr th:only-of-type {\n",
       "        vertical-align: middle;\n",
       "    }\n",
       "\n",
       "    .dataframe tbody tr th {\n",
       "        vertical-align: top;\n",
       "    }\n",
       "\n",
       "    .dataframe thead th {\n",
       "        text-align: right;\n",
       "    }\n",
       "</style>\n",
       "<table border=\"1\" class=\"dataframe\">\n",
       "  <thead>\n",
       "    <tr style=\"text-align: right;\">\n",
       "      <th></th>\n",
       "      <th>Boekmaand</th>\n",
       "      <th>VTW_flag</th>\n",
       "      <th>Bedrag</th>\n",
       "      <th>Obligo</th>\n",
       "    </tr>\n",
       "  </thead>\n",
       "  <tbody>\n",
       "    <tr>\n",
       "      <th>0</th>\n",
       "      <td>2020-01</td>\n",
       "      <td>1</td>\n",
       "      <td>500.00</td>\n",
       "      <td>3</td>\n",
       "    </tr>\n",
       "    <tr>\n",
       "      <th>1</th>\n",
       "      <td>2020-02</td>\n",
       "      <td>2</td>\n",
       "      <td>12940.50</td>\n",
       "      <td>6</td>\n",
       "    </tr>\n",
       "    <tr>\n",
       "      <th>2</th>\n",
       "      <td>2020-03</td>\n",
       "      <td>0</td>\n",
       "      <td>0.00</td>\n",
       "      <td>1</td>\n",
       "    </tr>\n",
       "    <tr>\n",
       "      <th>3</th>\n",
       "      <td>2020-04</td>\n",
       "      <td>2</td>\n",
       "      <td>392032.78</td>\n",
       "      <td>6</td>\n",
       "    </tr>\n",
       "    <tr>\n",
       "      <th>4</th>\n",
       "      <td>2020-05</td>\n",
       "      <td>1</td>\n",
       "      <td>0.00</td>\n",
       "      <td>3</td>\n",
       "    </tr>\n",
       "    <tr>\n",
       "      <th>5</th>\n",
       "      <td>2020-06</td>\n",
       "      <td>0</td>\n",
       "      <td>0.00</td>\n",
       "      <td>1</td>\n",
       "    </tr>\n",
       "    <tr>\n",
       "      <th>6</th>\n",
       "      <td>2020-07</td>\n",
       "      <td>1</td>\n",
       "      <td>876.03</td>\n",
       "      <td>8</td>\n",
       "    </tr>\n",
       "    <tr>\n",
       "      <th>7</th>\n",
       "      <td>2020-08</td>\n",
       "      <td>0</td>\n",
       "      <td>0.00</td>\n",
       "      <td>2</td>\n",
       "    </tr>\n",
       "    <tr>\n",
       "      <th>8</th>\n",
       "      <td>2020-10</td>\n",
       "      <td>0</td>\n",
       "      <td>30847.00</td>\n",
       "      <td>3</td>\n",
       "    </tr>\n",
       "    <tr>\n",
       "      <th>9</th>\n",
       "      <td>2020-11</td>\n",
       "      <td>0</td>\n",
       "      <td>0.00</td>\n",
       "      <td>1</td>\n",
       "    </tr>\n",
       "  </tbody>\n",
       "</table>\n",
       "</div>"
      ],
      "text/plain": [
       "  Boekmaand  VTW_flag     Bedrag  Obligo\n",
       "0   2020-01         1     500.00       3\n",
       "1   2020-02         2   12940.50       6\n",
       "2   2020-03         0       0.00       1\n",
       "3   2020-04         2  392032.78       6\n",
       "4   2020-05         1       0.00       3\n",
       "5   2020-06         0       0.00       1\n",
       "6   2020-07         1     876.03       8\n",
       "7   2020-08         0       0.00       2\n",
       "8   2020-10         0   30847.00       3\n",
       "9   2020-11         0       0.00       1"
      ]
     },
     "execution_count": 119,
     "metadata": {},
     "output_type": "execute_result"
    }
   ],
   "source": [
    "obligo_group"
   ]
  },
  {
   "cell_type": "code",
   "execution_count": 90,
   "metadata": {},
   "outputs": [],
   "source": [
    "file = \"/Users/eefje/python_projects/stijn/data/test eef.xlsx\"\n",
    "excel = pd.read_excel(file, sheet_name=\"Blad1\", dtype=str)\n",
    "excel.dropna(how='all', axis=1, inplace=True)\n",
    "\n",
    "# Reformat columns\n",
    "excel['Boekdatum'] = pd.to_datetime(excel['Boekdatum'], format=\"%d.%m.%Y\")\n",
    "excel['Boekmaand'] = excel['Boekdatum'].dt.to_period('M')\n",
    "excel['Bedrag'] = excel['Bedrag'].astype(float)\n",
    "excel['PO-nummer'] = excel['Best/']\n",
    "\n",
    "actuals = excel.groupby(['WBS-element', 'Boekmaand', 'Crediteur', 'Omschrijving']).sum().reset_index()\n",
    "actuals['Actuals'] =1"
   ]
  },
  {
   "cell_type": "code",
   "execution_count": 107,
   "metadata": {},
   "outputs": [],
   "source": [
    "actuals_permaand = actuals.groupby('Boekmaand').sum().reset_index()\n",
    "actuals_permaand.drop(columns=['Actuals'], inplace=True)\n",
    "actuals_permaand.rename(columns={'Bedrag':'Actuals'}, inplace=True)"
   ]
  },
  {
   "cell_type": "code",
   "execution_count": 125,
   "metadata": {},
   "outputs": [],
   "source": [
    "file = \"/Users/eefje/python_projects/stijn/data/test eef.xlsx\"\n",
    "excel = pd.read_excel(file, sheet_name=\"Blad3\", dtype=str, skiprows = 2)\n",
    "excel = excel.iloc[7: , :]\n",
    "excel['WBS-type'] = excel['Id'].str[-2:]\n",
    "# Drop rows where\n",
    "excel = excel[excel['WBS-type']!=\"00\"]"
   ]
  },
  {
   "cell_type": "code",
   "execution_count": 126,
   "metadata": {},
   "outputs": [],
   "source": [
    "excel['WBS-element']= excel['Id']"
   ]
  },
  {
   "cell_type": "code",
   "execution_count": 127,
   "metadata": {},
   "outputs": [],
   "source": [
    "budget = excel"
   ]
  },
  {
   "cell_type": "code",
   "execution_count": null,
   "metadata": {},
   "outputs": [],
   "source": [
    "vtw = "
   ]
  }
 ],
 "metadata": {
  "kernelspec": {
   "display_name": "Python 3",
   "language": "python",
   "name": "python3"
  },
  "language_info": {
   "codemirror_mode": {
    "name": "ipython",
    "version": 3
   },
   "file_extension": ".py",
   "mimetype": "text/x-python",
   "name": "python",
   "nbconvert_exporter": "python",
   "pygments_lexer": "ipython3",
   "version": "3.7.3"
  }
 },
 "nbformat": 4,
 "nbformat_minor": 2
}
